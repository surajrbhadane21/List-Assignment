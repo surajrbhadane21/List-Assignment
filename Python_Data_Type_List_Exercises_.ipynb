{
 "cells": [
  {
   "cell_type": "markdown",
   "metadata": {
    "id": "x8pBxxVrRfYj"
   },
   "source": [
    "Q.1 . Write a Python program to get a list, sorted in increasing order by the last element in each tuple from a given list of non-empty tuples. Go to the editor\n",
    "\n",
    "Sample List : [(2, 5), (1, 2), (4, 4), (2, 3), (2, 1)]\n",
    "\n",
    "Expected Result : [(2, 1), (1, 2), (2, 3), (4, 4), (2, 5)]"
   ]
  },
  {
   "cell_type": "code",
   "execution_count": 27,
   "metadata": {
    "id": "_anxqstzRm5F"
   },
   "outputs": [],
   "source": [
    "x =[(2,5),(1,2),(4,4),(2,3),(2,1)]"
   ]
  },
  {
   "cell_type": "code",
   "execution_count": 30,
   "metadata": {},
   "outputs": [
    {
     "name": "stdout",
     "output_type": "stream",
     "text": [
      "[1, 2, 3, 4, 5]\n",
      "[(1, 2), (2, 5), (2, 3), (2, 1), (4, 4)]\n"
     ]
    }
   ],
   "source": [
    "p=[]\n",
    "for k in x:\n",
    "    p.append(k[1])   \n",
    "#print(p)    \n",
    "\n",
    "p.sort()\n",
    "print(p)\n",
    "\n",
    "q=[]\n",
    "for j in p:\n",
    "    for i in x:\n",
    "        if j == i[0]:\n",
    "            q.append(i)\n",
    "print(q)"
   ]
  },
  {
   "cell_type": "code",
   "execution_count": null,
   "metadata": {},
   "outputs": [],
   "source": []
  },
  {
   "cell_type": "markdown",
   "metadata": {
    "id": "Fkig3BTiS1MZ"
   },
   "source": [
    "Q.2. Write a Python program to print a specified list after removing the 0th, 4th and 5th elements.\n",
    "\n",
    "color = ['Red', 'Green', 'White', 'Black', 'Pink', 'Yellow']"
   ]
  },
  {
   "cell_type": "code",
   "execution_count": 164,
   "metadata": {
    "id": "GCgH9J0YS9RK"
   },
   "outputs": [
    {
     "name": "stdout",
     "output_type": "stream",
     "text": [
      "['Green', 'White', 'Black']\n"
     ]
    }
   ],
   "source": [
    "color = ['Red', 'Green', 'White', 'Black', 'Pink', 'Yellow']\n",
    "\n",
    "#new = []\n",
    "a = color.pop(0)\n",
    "b = color.pop(3)\n",
    "c = color.pop(3)\n",
    "print(color)"
   ]
  },
  {
   "cell_type": "code",
   "execution_count": 160,
   "metadata": {},
   "outputs": [],
   "source": []
  },
  {
   "cell_type": "code",
   "execution_count": null,
   "metadata": {},
   "outputs": [],
   "source": []
  },
  {
   "cell_type": "code",
   "execution_count": null,
   "metadata": {},
   "outputs": [],
   "source": [
    "color = ['Red', 'Green', 'White', 'Black', 'Pink', 'Yellow']\n",
    "for c in color:\n",
    "    if \n",
    "    c.pop(0)"
   ]
  },
  {
   "cell_type": "markdown",
   "metadata": {
    "id": "ngvTG4vETRut"
   },
   "source": [
    "Q.3. Write a Python program to get the difference between the two lists.\n",
    "\n",
    "list1 = [1, 3, 5, 7, 9]\n",
    "\n",
    "list2=[1, 2, 4, 6, 7, 8]\n"
   ]
  },
  {
   "cell_type": "code",
   "execution_count": 20,
   "metadata": {
    "id": "QSw6KLv_TA6M"
   },
   "outputs": [
    {
     "name": "stdout",
     "output_type": "stream",
     "text": [
      "[9, 3, 5]\n",
      "[8, 2, 4, 6]\n",
      "[9, 3, 5, 8, 2, 4, 6]\n"
     ]
    }
   ],
   "source": [
    "list1 = [1, 3, 5, 7, 9]\n",
    "\n",
    "list2 = [1, 2, 4, 6, 7, 8]\n",
    "\n",
    "list3=list(set(list1)-set(list2))\n",
    "print(list3)\n",
    "list4=list(set(list2)-set(list1))\n",
    "print(list4)\n",
    "list5=list3+list4\n",
    "print(list5)"
   ]
  },
  {
   "cell_type": "markdown",
   "metadata": {
    "id": "Bkwp166_T2YM"
   },
   "source": [
    "Q.4.Write a Python program to replace the last element in a list with another list.\n",
    "\n",
    "num1 = [1, 3, 5, 7, 9, 10]\n",
    "\n",
    "num2 = [2, 4, 6, 8]"
   ]
  },
  {
   "cell_type": "code",
   "execution_count": 175,
   "metadata": {
    "id": "29zZwY6STc8i"
   },
   "outputs": [],
   "source": [
    "num1 = [1, 3, 5, 7, 9, 10]\n",
    "\n",
    "num2 = [2, 4, 6, 8]"
   ]
  },
  {
   "cell_type": "code",
   "execution_count": 180,
   "metadata": {},
   "outputs": [
    {
     "data": {
      "text/plain": [
       "[1, 3, 5, 7, 9, [2, 4, 6, 8]]"
      ]
     },
     "execution_count": 180,
     "metadata": {},
     "output_type": "execute_result"
    }
   ],
   "source": [
    "num1[-1]=num2\n",
    "num1"
   ]
  },
  {
   "cell_type": "markdown",
   "metadata": {
    "id": "xizf4OJJUaaC"
   },
   "source": [
    "Q.5. Write a Python program to extend a list without append.\n",
    "\n",
    "x = [10, 20, 30]\n",
    "\n",
    "y = [40, 50, 60]\n"
   ]
  },
  {
   "cell_type": "code",
   "execution_count": 2,
   "metadata": {
    "id": "N2qlNclVUZZG"
   },
   "outputs": [],
   "source": [
    "x = [10, 20, 30]\n",
    "\n",
    "y = [40, 50, 60]"
   ]
  },
  {
   "cell_type": "code",
   "execution_count": 4,
   "metadata": {},
   "outputs": [
    {
     "data": {
      "text/plain": [
       "[10, 20, 30, 40, 50, 60]"
      ]
     },
     "execution_count": 4,
     "metadata": {},
     "output_type": "execute_result"
    }
   ],
   "source": [
    "x+y"
   ]
  },
  {
   "cell_type": "markdown",
   "metadata": {
    "id": "4EF_DFs2UZ1A"
   },
   "source": [
    "Q.6. Write a Python program to remove consecutive duplicates of a given list. Go to the editor\n",
    "\n",
    "Original list:\n",
    "[0, 0, 1, 2, 3, 4, 4, 5, 6, 6, 6, 7, 8, 9, 4, 4]\n",
    "\n",
    "After removing consecutive duplicates:\n",
    "[0, 1, 2, 3, 4, 5, 6, 7, 8, 9, 4]"
   ]
  },
  {
   "cell_type": "code",
   "execution_count": 93,
   "metadata": {
    "id": "G9n-7rwqVv8d"
   },
   "outputs": [],
   "source": [
    "list=[0, 0, 1, 2, 3, 4, 4, 5, 6, 6, 6, 7, 8, 9, 4, 4]"
   ]
  },
  {
   "cell_type": "code",
   "execution_count": 96,
   "metadata": {},
   "outputs": [
    {
     "name": "stdout",
     "output_type": "stream",
     "text": [
      "[0, 1, 2, 3, 4, 5, 6, 7, 8, 9, 4]\n"
     ]
    }
   ],
   "source": [
    "i= 0\n",
    "while i < len(list)-1:\n",
    "    \n",
    "    if list[i] == list[i+1]:\n",
    "        del list[i]\n",
    "    else:    \n",
    "        i=i+1\n",
    "print(list)        "
   ]
  },
  {
   "cell_type": "markdown",
   "metadata": {},
   "source": [
    "Q.7. Write a Python program to generate a list, containing the Fibonacci sequence, up until the nth term. Go to the editor\n",
    "\n",
    "Sample Output:\n",
    "### First 7 Fibonacci numbers : [0, 1, 1, 2, 3, 5, 8, 13]\n",
    "\n",
    "### First 15 Fibonacci numbers: ?\n",
    "\n",
    "\n",
    "### First 50 Fibonacci numbers: ?"
   ]
  },
  {
   "cell_type": "code",
   "execution_count": 86,
   "metadata": {},
   "outputs": [
    {
     "name": "stdout",
     "output_type": "stream",
     "text": [
      "[0, 1, 1, 2, 3, 5, 8, 13]\n"
     ]
    }
   ],
   "source": [
    "l=[0,1]\n",
    "n=7\n",
    "for i in range(1,n):\n",
    "    b=l[i]+l[i-1]\n",
    "    l.append(b)\n",
    "print(l)    \n",
    "    "
   ]
  },
  {
   "cell_type": "markdown",
   "metadata": {
    "id": "qofYsgxcW32D"
   },
   "source": [
    "Q.8. Write a Python program to sort one list based on another list containing the desired indexes.\n",
    "\n",
    "* Use zip() and sorted() to combine and sort the two lists, based on the values of indexes.\n",
    "* Use a list comprehension to get the first element of each pair from the result\n",
    "* Use the reverse parameter in sorted() to sort the dictionary in reverse order, based on the third argument\n",
    "\n",
    "l1 = ['eggs', 'bread', 'oranges', 'jam', 'apples', 'milk']\n",
    "\n",
    "l2 = [3, 2, 6, 4, 1, 5]"
   ]
  },
  {
   "cell_type": "code",
   "execution_count": 54,
   "metadata": {
    "id": "OXKaAfTtXGRg"
   },
   "outputs": [
    {
     "name": "stdout",
     "output_type": "stream",
     "text": [
      "None\n"
     ]
    }
   ],
   "source": [
    "\n",
    "l1 = ['eggs', 'bread', 'oranges', 'jam', 'apples', 'milk','milk']\n",
    "\n",
    "l2 = [3, 2, 6, 4, 1, 5,5]\n",
    "l4=[]\n",
    "l3 = zip(l1,l2)\n",
    "l3=list(l3)\n",
    "l4=l3.sort()\n",
    "\n",
    "#print(l5)\n",
    "#l4 = l3.sort(reverse=True)\n",
    "#print(l4)\n",
    "print(l4)"
   ]
  },
  {
   "cell_type": "markdown",
   "metadata": {
    "id": "ZyjoeuvjYKhw"
   },
   "source": [
    "Q.9.  Write a Python program to find the maximum and minimum value of the three given lists. Go to the editor\n",
    "\n",
    "Original lists:\n",
    "\n",
    "[2, 3, 5, 8, 7, 2, 3]\n",
    "\n",
    "[4, 3, 9, 0, 4, 3, 9]\n",
    "\n",
    "[2, 1, 5, 6, 5, 5, 4]\n",
    "\n",
    "Maximum value of the said three lists : 9\n",
    "\n",
    "Minimum value of the said three lists : 0"
   ]
  },
  {
   "cell_type": "code",
   "execution_count": 31,
   "metadata": {
    "id": "fCla-JvIXIrV"
   },
   "outputs": [
    {
     "name": "stdout",
     "output_type": "stream",
     "text": [
      "9\n",
      "0\n"
     ]
    }
   ],
   "source": [
    "x=[2, 3, 5, 8, 7, 2, 3]\n",
    "\n",
    "y=[4, 3, 9, 0, 4, 3, 9]\n",
    "\n",
    "z=[2, 1, 5, 6, 5, 5, 4]\n",
    "\n",
    "z = x+y+z\n",
    "print(max(z))\n",
    "print(min(z))"
   ]
  },
  {
   "cell_type": "markdown",
   "metadata": {
    "id": "nqVyA5ndYumS"
   },
   "source": [
    "Q.10. Write a Python program to create the smallest possible number using the elements of a given list of positive integers. Go to the editor\n",
    "\n",
    "#### Original list:\n",
    "\n",
    "[3, 40, 41, 43, 74, 9]\n",
    "\n",
    "Smallest possible number using the elements of the said list of positive integers:\n",
    "\n",
    "3404143749\n",
    "\n",
    "#### Original list:\n",
    "\n",
    "[10, 40, 20, 30, 50, 60]\n",
    "\n",
    "Smallest possible number using the elements of the said list of positive integers:\n",
    "\n",
    "102030405060\n",
    "\n",
    "#### Original list:\n",
    "\n",
    "[8, 4, 2, 9, 5, 6, 1, 0]\n",
    "\n",
    "Smallest possible number using the elements of the said list of positive integers:\n",
    "\n",
    "01245689"
   ]
  },
  {
   "cell_type": "code",
   "execution_count": 106,
   "metadata": {
    "id": "fJJdYXuCY48f"
   },
   "outputs": [
    {
     "name": "stdout",
     "output_type": "stream",
     "text": [
      "['3', '9', '40', '41', '43', '74']\n",
      "3940414374\n"
     ]
    }
   ],
   "source": [
    "a = [3, 40, 41, 43, 74, 9]\n",
    "a.sort()\n",
    "x=[]\n",
    "for i in a:\n",
    "    x.append(str(i))\n",
    "print(x)    \n",
    "t=\"\".join(x)\n",
    "print(t)"
   ]
  },
  {
   "cell_type": "code",
   "execution_count": 114,
   "metadata": {},
   "outputs": [
    {
     "name": "stdout",
     "output_type": "stream",
     "text": [
      "01245689\n"
     ]
    }
   ],
   "source": [
    "a = [8, 4, 2, 9, 5, 6, 1, 0]\n",
    "a.sort()\n",
    "new = [str(i) for i in a]\n",
    "print(\"\".join(new))"
   ]
  },
  {
   "cell_type": "code",
   "execution_count": null,
   "metadata": {},
   "outputs": [],
   "source": []
  },
  {
   "cell_type": "code",
   "execution_count": null,
   "metadata": {},
   "outputs": [],
   "source": []
  }
 ],
 "metadata": {
  "colab": {
   "collapsed_sections": [],
   "name": "Python Data Type: List- Exercises .ipynb",
   "private_outputs": true,
   "provenance": []
  },
  "kernelspec": {
   "display_name": "Python 3",
   "language": "python",
   "name": "python3"
  },
  "language_info": {
   "codemirror_mode": {
    "name": "ipython",
    "version": 3
   },
   "file_extension": ".py",
   "mimetype": "text/x-python",
   "name": "python",
   "nbconvert_exporter": "python",
   "pygments_lexer": "ipython3",
   "version": "3.8.5"
  }
 },
 "nbformat": 4,
 "nbformat_minor": 1
}
